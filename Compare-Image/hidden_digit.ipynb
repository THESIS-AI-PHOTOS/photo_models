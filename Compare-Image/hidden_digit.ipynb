{
 "cells": [
  {
   "cell_type": "markdown",
   "metadata": {},
   "source": []
  },
  {
   "cell_type": "code",
   "execution_count": 16,
   "metadata": {},
   "outputs": [
    {
     "ename": "TypeError",
     "evalue": "'int' object is not subscriptable",
     "output_type": "error",
     "traceback": [
      "\u001b[1;31m---------------------------------------------------------------------------\u001b[0m",
      "\u001b[1;31mTypeError\u001b[0m                                 Traceback (most recent call last)",
      "\u001b[1;32mc:\\Users\\tech.huy.bui\\Desktop\\code-python\\hidden_digit.ipynb Cell 2\u001b[0m line \u001b[0;36m4\n\u001b[0;32m     <a href='vscode-notebook-cell:/c%3A/Users/tech.huy.bui/Desktop/code-python/hidden_digit.ipynb#W2sZmlsZQ%3D%3D?line=44'>45</a>\u001b[0m image_path \u001b[39m=\u001b[39m \u001b[39m'\u001b[39m\u001b[39m./image3.png\u001b[39m\u001b[39m'\u001b[39m\n\u001b[0;32m     <a href='vscode-notebook-cell:/c%3A/Users/tech.huy.bui/Desktop/code-python/hidden_digit.ipynb#W2sZmlsZQ%3D%3D?line=45'>46</a>\u001b[0m secret_message \u001b[39m=\u001b[39m \u001b[39m'\u001b[39m\u001b[39mHello, this is a hidden message!\u001b[39m\u001b[39m'\u001b[39m\n\u001b[1;32m---> <a href='vscode-notebook-cell:/c%3A/Users/tech.huy.bui/Desktop/code-python/hidden_digit.ipynb#W2sZmlsZQ%3D%3D?line=46'>47</a>\u001b[0m hide_message(image_path, secret_message)\n\u001b[0;32m     <a href='vscode-notebook-cell:/c%3A/Users/tech.huy.bui/Desktop/code-python/hidden_digit.ipynb#W2sZmlsZQ%3D%3D?line=48'>49</a>\u001b[0m \u001b[39m# Retrieve the hidden message\u001b[39;00m\n\u001b[0;32m     <a href='vscode-notebook-cell:/c%3A/Users/tech.huy.bui/Desktop/code-python/hidden_digit.ipynb#W2sZmlsZQ%3D%3D?line=49'>50</a>\u001b[0m retrieved_message \u001b[39m=\u001b[39m reveal_message(\u001b[39m'\u001b[39m\u001b[39moutput_image.png\u001b[39m\u001b[39m'\u001b[39m)\n",
      "\u001b[1;32mc:\\Users\\tech.huy.bui\\Desktop\\code-python\\hidden_digit.ipynb Cell 2\u001b[0m line \u001b[0;36m2\n\u001b[0;32m     <a href='vscode-notebook-cell:/c%3A/Users/tech.huy.bui/Desktop/code-python/hidden_digit.ipynb#W2sZmlsZQ%3D%3D?line=20'>21</a>\u001b[0m \u001b[39mfor\u001b[39;00m color_index \u001b[39min\u001b[39;00m \u001b[39mrange\u001b[39m(\u001b[39m3\u001b[39m):  \u001b[39m# R, G, B - ignore Alpha (transparency)\u001b[39;00m\n\u001b[0;32m     <a href='vscode-notebook-cell:/c%3A/Users/tech.huy.bui/Desktop/code-python/hidden_digit.ipynb#W2sZmlsZQ%3D%3D?line=21'>22</a>\u001b[0m     \u001b[39mif\u001b[39;00m data_index \u001b[39m<\u001b[39m \u001b[39mlen\u001b[39m(binary_message):\n\u001b[1;32m---> <a href='vscode-notebook-cell:/c%3A/Users/tech.huy.bui/Desktop/code-python/hidden_digit.ipynb#W2sZmlsZQ%3D%3D?line=22'>23</a>\u001b[0m         new_pixel\u001b[39m.\u001b[39mappend((pixel[color_index] \u001b[39m&\u001b[39m \u001b[39m~\u001b[39m\u001b[39m1\u001b[39m) \u001b[39m|\u001b[39m \u001b[39mint\u001b[39m(binary_message[data_index]))\n\u001b[0;32m     <a href='vscode-notebook-cell:/c%3A/Users/tech.huy.bui/Desktop/code-python/hidden_digit.ipynb#W2sZmlsZQ%3D%3D?line=23'>24</a>\u001b[0m         data_index \u001b[39m+\u001b[39m\u001b[39m=\u001b[39m \u001b[39m1\u001b[39m\n\u001b[0;32m     <a href='vscode-notebook-cell:/c%3A/Users/tech.huy.bui/Desktop/code-python/hidden_digit.ipynb#W2sZmlsZQ%3D%3D?line=24'>25</a>\u001b[0m     \u001b[39melse\u001b[39;00m:\n",
      "\u001b[1;31mTypeError\u001b[0m: 'int' object is not subscriptable"
     ]
    }
   ],
   "source": [
    "from PIL import Image\n",
    "\n",
    "def text_to_binary(text):\n",
    "    binary_message = ''.join(format(ord(char), '08b') for char in text)\n",
    "    return binary_message\n",
    "\n",
    "def binary_to_text(binary_message):\n",
    "    text = ''.join(chr(int(binary_message[i:i+8], 2)) for i in range(0, len(binary_message), 8))\n",
    "    return text\n",
    "\n",
    "def hide_message(image_path, secret_message):\n",
    "    img = Image.open(image_path)\n",
    "    binary_message = text_to_binary(secret_message)\n",
    "    \n",
    "    data_index = 0\n",
    "    img_data = list(img.getdata())\n",
    "    new_img_data = []\n",
    "\n",
    "    for pixel in img_data:\n",
    "        new_pixel = []\n",
    "        for color_index in range(3):  # R, G, B - ignore Alpha (transparency)\n",
    "            if data_index < len(binary_message):\n",
    "                new_pixel.append((pixel[color_index] & ~1) | int(binary_message[data_index]))\n",
    "                data_index += 1\n",
    "            else:\n",
    "                new_pixel.append(pixel[color_index])\n",
    "\n",
    "        new_img_data.append(tuple(new_pixel))\n",
    "\n",
    "    img.putdata(new_img_data)\n",
    "    img.save('output_image.png')\n",
    "\n",
    "def reveal_message(image_path):\n",
    "    img = Image.open(image_path)\n",
    "    binary_message = ''\n",
    "\n",
    "    for pixel in img.getdata():\n",
    "        for color_index in range(3):\n",
    "            binary_message += str(pixel[color_index] & 1)\n",
    "\n",
    "    secret_message = binary_to_text(binary_message)\n",
    "    return secret_message\n",
    "\n",
    "# Example usage\n",
    "image_path = './image3.png'\n",
    "secret_message = 'Hello'\n",
    "hide_message(image_path, secret_message)\n",
    "\n",
    "# Retrieve the hidden message\n",
    "retrieved_message = reveal_message('output_image.png')\n",
    "print('Retrieved Message:', retrieved_message)\n"
   ]
  }
 ],
 "metadata": {
  "kernelspec": {
   "display_name": "Python 3",
   "language": "python",
   "name": "python3"
  },
  "language_info": {
   "codemirror_mode": {
    "name": "ipython",
    "version": 3
   },
   "file_extension": ".py",
   "mimetype": "text/x-python",
   "name": "python",
   "nbconvert_exporter": "python",
   "pygments_lexer": "ipython3",
   "version": "3.12.0"
  }
 },
 "nbformat": 4,
 "nbformat_minor": 2
}
