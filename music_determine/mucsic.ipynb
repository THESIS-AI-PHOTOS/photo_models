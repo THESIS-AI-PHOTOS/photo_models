{
 "cells": [
  {
   "cell_type": "code",
   "execution_count": 5,
   "metadata": {},
   "outputs": [
    {
     "ename": "FileNotFoundError",
     "evalue": "[WinError 3] The system cannot find the path specified: './music/classical'",
     "output_type": "error",
     "traceback": [
      "\u001b[1;31m---------------------------------------------------------------------------\u001b[0m",
      "\u001b[1;31mFileNotFoundError\u001b[0m                         Traceback (most recent call last)",
      "Cell \u001b[1;32mIn[5], line 21\u001b[0m\n\u001b[0;32m     19\u001b[0m \u001b[39mfor\u001b[39;00m genre \u001b[39min\u001b[39;00m genres:\n\u001b[0;32m     20\u001b[0m     genre_folder \u001b[39m=\u001b[39m \u001b[39mf\u001b[39m\u001b[39m'\u001b[39m\u001b[39m{\u001b[39;00maudio_folder\u001b[39m}\u001b[39;00m\u001b[39m/\u001b[39m\u001b[39m{\u001b[39;00mgenre\u001b[39m}\u001b[39;00m\u001b[39m'\u001b[39m\n\u001b[1;32m---> 21\u001b[0m     \u001b[39mfor\u001b[39;00m filename \u001b[39min\u001b[39;00m os\u001b[39m.\u001b[39;49mlistdir(genre_folder):\n\u001b[0;32m     22\u001b[0m         \u001b[39mif\u001b[39;00m filename\u001b[39m.\u001b[39mendswith(\u001b[39m'\u001b[39m\u001b[39m.mp3\u001b[39m\u001b[39m'\u001b[39m):\n\u001b[0;32m     23\u001b[0m             file_path \u001b[39m=\u001b[39m \u001b[39mf\u001b[39m\u001b[39m'\u001b[39m\u001b[39m{\u001b[39;00mgenre_folder\u001b[39m}\u001b[39;00m\u001b[39m/\u001b[39m\u001b[39m{\u001b[39;00mfilename\u001b[39m}\u001b[39;00m\u001b[39m'\u001b[39m\n",
      "\u001b[1;31mFileNotFoundError\u001b[0m: [WinError 3] The system cannot find the path specified: './music/classical'"
     ]
    }
   ],
   "source": [
    "import librosa\n",
    "import os\n",
    "import numpy as np\n",
    "from sklearn.model_selection import train_test_split\n",
    "from sklearn.preprocessing import LabelEncoder\n",
    "from sklearn.svm import SVC\n",
    "from sklearn.metrics import accuracy_score\n",
    "\n",
    "# Đường dẫn tới thư mục chứa các tệp âm thanh của các thể loại nhạc khác nhau\n",
    "audio_folder = './music'\n",
    "# Danh sách các thể loại nhạc tương ứng với tên thư mục\n",
    "genres = ['learning', 'podcast', 'pop','jazz','classical','rock', 'nolyric']\n",
    "\n",
    "# Khởi tạo danh sách chứa các đặc trưng của âm thanh và nhãn thể loại\n",
    "features = []\n",
    "labels = []\n",
    "\n",
    "# Trích xuất đặc trưng MFCC từ các tệp âm thanh và gán nhãn\n",
    "for genre in genres:\n",
    "    genre_folder = f'{audio_folder}/{genre}'\n",
    "    for filename in os.listdir(genre_folder):\n",
    "        if filename.endswith('.mp3'):\n",
    "            file_path = f'{genre_folder}/{filename}'\n",
    "            y, sr = librosa.load(file_path)\n",
    "            mfccs = librosa.feature.mfcc(y=y, sr=sr, n_mfcc=13)\n",
    "            features.append(np.mean(mfccs, axis=1))  # Sử dụng trung bình của MFCCs làm đặc trưng\n",
    "            labels.append(genre)\n",
    "\n",
    "# Chuyển đổi nhãn về dạng số\n",
    "le = LabelEncoder()\n",
    "labels_encoded = le.fit_transform(labels)\n",
    "\n",
    "# Chia dữ liệu thành tập huấn luyện và tập kiểm tra\n",
    "X_train, X_test, y_train, y_test = train_test_split(features, labels_encoded, test_size=0.2, random_state=42)\n",
    "\n",
    "# Huấn luyện một mô hình SVM\n",
    "svm_model = SVC(kernel='linear')\n",
    "svm_model.fit(X_train, y_train)\n",
    "\n",
    "# Dự báo nhãn thể loại cho tệp âm thanh kiểm tra\n",
    "y_pred = svm_model.predict(X_test)\n",
    "\n",
    "# Chuyển đổi dự báo về dạng nhãn ban đầu\n",
    "predicted_labels = le.inverse_transform(y_pred)\n",
    "\n",
    "# Đánh giá độ chính xác của mô hình\n",
    "accuracy = accuracy_score(y_test, y_pred)\n",
    "print(f'Accuracy: {accuracy:.2f}')\n",
    "\n",
    "# In ra dự báo thể loại cho từng tệp âm thanh kiểm tra\n",
    "for i, filename in enumerate(os.listdir(audio_folder)):\n",
    "    if filename.endswith('.wav'):\n",
    "        print(f'File: {filename}, Predicted Genre: {predicted_labels[i]}')\n"
   ]
  }
 ],
 "metadata": {
  "kernelspec": {
   "display_name": "Python 3",
   "language": "python",
   "name": "python3"
  },
  "language_info": {
   "codemirror_mode": {
    "name": "ipython",
    "version": 3
   },
   "file_extension": ".py",
   "mimetype": "text/x-python",
   "name": "python",
   "nbconvert_exporter": "python",
   "pygments_lexer": "ipython3",
   "version": "3.10.10"
  },
  "orig_nbformat": 4
 },
 "nbformat": 4,
 "nbformat_minor": 2
}
