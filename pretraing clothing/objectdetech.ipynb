{
 "cells": [
  {
   "cell_type": "code",
   "execution_count": 7,
   "metadata": {},
   "outputs": [
    {
     "name": "stdout",
     "output_type": "stream",
     "text": [
      "Requirement already satisfied: timm in c:\\users\\19521\\appdata\\local\\programs\\python\\python310\\lib\\site-packages (0.9.7)\n",
      "Requirement already satisfied: torch>=1.7 in c:\\users\\19521\\appdata\\local\\programs\\python\\python310\\lib\\site-packages (from timm) (2.0.1+cu117)\n",
      "Requirement already satisfied: torchvision in c:\\users\\19521\\appdata\\local\\programs\\python\\python310\\lib\\site-packages (from timm) (0.15.2)\n",
      "Requirement already satisfied: pyyaml in c:\\users\\19521\\appdata\\local\\programs\\python\\python310\\lib\\site-packages (from timm) (6.0)\n",
      "Requirement already satisfied: huggingface-hub in c:\\users\\19521\\appdata\\local\\programs\\python\\python310\\lib\\site-packages (from timm) (0.13.4)\n",
      "Requirement already satisfied: safetensors in c:\\users\\19521\\appdata\\local\\programs\\python\\python310\\lib\\site-packages (from timm) (0.3.3)\n",
      "Requirement already satisfied: filelock in c:\\users\\19521\\appdata\\local\\programs\\python\\python310\\lib\\site-packages (from torch>=1.7->timm) (3.11.0)\n",
      "Requirement already satisfied: typing-extensions in c:\\users\\19521\\appdata\\local\\programs\\python\\python310\\lib\\site-packages (from torch>=1.7->timm) (4.5.0)\n",
      "Requirement already satisfied: sympy in c:\\users\\19521\\appdata\\local\\programs\\python\\python310\\lib\\site-packages (from torch>=1.7->timm) (1.11.1)\n",
      "Requirement already satisfied: networkx in c:\\users\\19521\\appdata\\local\\programs\\python\\python310\\lib\\site-packages (from torch>=1.7->timm) (3.1)\n",
      "Requirement already satisfied: jinja2 in c:\\users\\19521\\appdata\\local\\programs\\python\\python310\\lib\\site-packages (from torch>=1.7->timm) (3.1.2)\n",
      "Requirement already satisfied: requests in c:\\users\\19521\\appdata\\local\\programs\\python\\python310\\lib\\site-packages (from huggingface-hub->timm) (2.28.2)\n",
      "Requirement already satisfied: tqdm>=4.42.1 in c:\\users\\19521\\appdata\\local\\programs\\python\\python310\\lib\\site-packages (from huggingface-hub->timm) (4.65.0)\n",
      "Requirement already satisfied: packaging>=20.9 in c:\\users\\19521\\appdata\\local\\programs\\python\\python310\\lib\\site-packages (from huggingface-hub->timm) (23.0)\n",
      "Requirement already satisfied: numpy in c:\\users\\19521\\appdata\\local\\programs\\python\\python310\\lib\\site-packages (from torchvision->timm) (1.24.2)\n",
      "Requirement already satisfied: pillow!=8.3.*,>=5.3.0 in c:\\users\\19521\\appdata\\local\\programs\\python\\python310\\lib\\site-packages (from torchvision->timm) (10.0.1)\n",
      "Requirement already satisfied: colorama in c:\\users\\19521\\appdata\\roaming\\python\\python310\\site-packages (from tqdm>=4.42.1->huggingface-hub->timm) (0.4.6)\n",
      "Requirement already satisfied: MarkupSafe>=2.0 in c:\\users\\19521\\appdata\\local\\programs\\python\\python310\\lib\\site-packages (from jinja2->torch>=1.7->timm) (2.1.2)\n",
      "Requirement already satisfied: charset-normalizer<4,>=2 in c:\\users\\19521\\appdata\\local\\programs\\python\\python310\\lib\\site-packages (from requests->huggingface-hub->timm) (3.1.0)\n",
      "Requirement already satisfied: idna<4,>=2.5 in c:\\users\\19521\\appdata\\roaming\\python\\python310\\site-packages (from requests->huggingface-hub->timm) (2.10)\n",
      "Requirement already satisfied: urllib3<1.27,>=1.21.1 in c:\\users\\19521\\appdata\\local\\programs\\python\\python310\\lib\\site-packages (from requests->huggingface-hub->timm) (1.26.15)\n",
      "Requirement already satisfied: certifi>=2017.4.17 in c:\\users\\19521\\appdata\\local\\programs\\python\\python310\\lib\\site-packages (from requests->huggingface-hub->timm) (2022.12.7)\n",
      "Requirement already satisfied: mpmath>=0.19 in c:\\users\\19521\\appdata\\local\\programs\\python\\python310\\lib\\site-packages (from sympy->torch>=1.7->timm) (1.3.0)\n"
     ]
    },
    {
     "name": "stderr",
     "output_type": "stream",
     "text": [
      "WARNING: Ignoring invalid distribution -illow (c:\\users\\19521\\appdata\\local\\programs\\python\\python310\\lib\\site-packages)\n",
      "WARNING: Ignoring invalid distribution -rotobuf (c:\\users\\19521\\appdata\\local\\programs\\python\\python310\\lib\\site-packages)\n",
      "WARNING: Ignoring invalid distribution -illow (c:\\users\\19521\\appdata\\local\\programs\\python\\python310\\lib\\site-packages)\n",
      "WARNING: Ignoring invalid distribution -rotobuf (c:\\users\\19521\\appdata\\local\\programs\\python\\python310\\lib\\site-packages)\n"
     ]
    }
   ],
   "source": [
    "!pip install timm"
   ]
  },
  {
   "cell_type": "code",
   "execution_count": 21,
   "metadata": {},
   "outputs": [
    {
     "name": "stdout",
     "output_type": "stream",
     "text": [
      "Collecting ultralyticsplus\n",
      "  Downloading ultralyticsplus-0.0.28-py3-none-any.whl (11 kB)\n",
      "Requirement already satisfied: huggingface-hub>=0.12.0 in c:\\users\\19521\\appdata\\local\\programs\\python\\python310\\lib\\site-packages (from ultralyticsplus) (0.13.4)\n",
      "Requirement already satisfied: fire in c:\\users\\19521\\appdata\\local\\programs\\python\\python310\\lib\\site-packages (from ultralyticsplus) (0.5.0)\n",
      "Collecting ultralytics<8.0.44,>=8.0.43 (from ultralyticsplus)\n",
      "  Downloading ultralytics-8.0.43-py3-none-any.whl (299 kB)\n",
      "     ---------------------------------------- 0.0/299.6 kB ? eta -:--:--\n",
      "     ------- ------------------------------- 61.4/299.6 kB 3.2 MB/s eta 0:00:01\n",
      "     ---------------------- --------------- 174.1/299.6 kB 2.1 MB/s eta 0:00:01\n",
      "     ---------------------- --------------- 174.1/299.6 kB 2.1 MB/s eta 0:00:01\n",
      "     -------------------------------------- 299.6/299.6 kB 1.9 MB/s eta 0:00:00\n",
      "Collecting sahi<0.12.0,>=0.11.11 (from ultralyticsplus)\n",
      "  Obtaining dependency information for sahi<0.12.0,>=0.11.11 from https://files.pythonhosted.org/packages/bf/2b/026f0861137499edca43263679f9e4ce21314b67c34c8d74c12f2833b8c3/sahi-0.11.14-py3-none-any.whl.metadata\n",
      "  Downloading sahi-0.11.14-py3-none-any.whl.metadata (14 kB)\n",
      "Requirement already satisfied: pandas in c:\\users\\19521\\appdata\\local\\programs\\python\\python310\\lib\\site-packages (from ultralyticsplus) (1.5.3)\n",
      "Requirement already satisfied: filelock in c:\\users\\19521\\appdata\\local\\programs\\python\\python310\\lib\\site-packages (from huggingface-hub>=0.12.0->ultralyticsplus) (3.11.0)\n",
      "Requirement already satisfied: requests in c:\\users\\19521\\appdata\\local\\programs\\python\\python310\\lib\\site-packages (from huggingface-hub>=0.12.0->ultralyticsplus) (2.28.2)\n",
      "Requirement already satisfied: tqdm>=4.42.1 in c:\\users\\19521\\appdata\\local\\programs\\python\\python310\\lib\\site-packages (from huggingface-hub>=0.12.0->ultralyticsplus) (4.65.0)\n",
      "Requirement already satisfied: pyyaml>=5.1 in c:\\users\\19521\\appdata\\local\\programs\\python\\python310\\lib\\site-packages (from huggingface-hub>=0.12.0->ultralyticsplus) (6.0)\n",
      "Requirement already satisfied: typing-extensions>=3.7.4.3 in c:\\users\\19521\\appdata\\local\\programs\\python\\python310\\lib\\site-packages (from huggingface-hub>=0.12.0->ultralyticsplus) (4.5.0)\n",
      "Requirement already satisfied: packaging>=20.9 in c:\\users\\19521\\appdata\\local\\programs\\python\\python310\\lib\\site-packages (from huggingface-hub>=0.12.0->ultralyticsplus) (23.0)\n",
      "Requirement already satisfied: opencv-python>=4.2.0.32 in c:\\users\\19521\\appdata\\local\\programs\\python\\python310\\lib\\site-packages (from sahi<0.12.0,>=0.11.11->ultralyticsplus) (4.8.0.76)\n",
      "Collecting shapely>=1.8.0 (from sahi<0.12.0,>=0.11.11->ultralyticsplus)\n",
      "  Downloading shapely-2.0.1-cp310-cp310-win_amd64.whl (1.4 MB)\n",
      "     ---------------------------------------- 0.0/1.4 MB ? eta -:--:--\n",
      "     ----- ---------------------------------- 0.2/1.4 MB 4.1 MB/s eta 0:00:01\n",
      "     -------- ------------------------------- 0.3/1.4 MB 5.9 MB/s eta 0:00:01\n",
      "     ----------------- ---------------------- 0.6/1.4 MB 4.1 MB/s eta 0:00:01\n",
      "     ------------------------------- -------- 1.1/1.4 MB 5.7 MB/s eta 0:00:01\n",
      "     ---------------------------------------- 1.4/1.4 MB 6.7 MB/s eta 0:00:00\n",
      "Requirement already satisfied: pillow>=8.2.0 in c:\\users\\19521\\appdata\\local\\programs\\python\\python310\\lib\\site-packages (from sahi<0.12.0,>=0.11.11->ultralyticsplus) (10.0.1)\n",
      "Collecting pybboxes==0.1.6 (from sahi<0.12.0,>=0.11.11->ultralyticsplus)\n",
      "  Downloading pybboxes-0.1.6-py3-none-any.whl (24 kB)\n",
      "Collecting terminaltables (from sahi<0.12.0,>=0.11.11->ultralyticsplus)\n",
      "  Downloading terminaltables-3.1.10-py2.py3-none-any.whl (15 kB)\n",
      "Requirement already satisfied: click in c:\\users\\19521\\appdata\\local\\programs\\python\\python310\\lib\\site-packages (from sahi<0.12.0,>=0.11.11->ultralyticsplus) (8.1.3)\n",
      "Requirement already satisfied: numpy in c:\\users\\19521\\appdata\\local\\programs\\python\\python310\\lib\\site-packages (from pybboxes==0.1.6->sahi<0.12.0,>=0.11.11->ultralyticsplus) (1.24.2)\n",
      "Requirement already satisfied: matplotlib>=3.2.2 in c:\\users\\19521\\appdata\\local\\programs\\python\\python310\\lib\\site-packages (from ultralytics<8.0.44,>=8.0.43->ultralyticsplus) (3.7.1)\n",
      "Requirement already satisfied: scipy>=1.4.1 in c:\\users\\19521\\appdata\\local\\programs\\python\\python310\\lib\\site-packages (from ultralytics<8.0.44,>=8.0.43->ultralyticsplus) (1.10.1)\n",
      "Requirement already satisfied: torch>=1.7.0 in c:\\users\\19521\\appdata\\local\\programs\\python\\python310\\lib\\site-packages (from ultralytics<8.0.44,>=8.0.43->ultralyticsplus) (2.0.1+cu117)\n",
      "Requirement already satisfied: torchvision>=0.8.1 in c:\\users\\19521\\appdata\\local\\programs\\python\\python310\\lib\\site-packages (from ultralytics<8.0.44,>=8.0.43->ultralyticsplus) (0.15.2)\n",
      "Requirement already satisfied: tensorboard>=2.4.1 in c:\\users\\19521\\appdata\\local\\programs\\python\\python310\\lib\\site-packages (from ultralytics<8.0.44,>=8.0.43->ultralyticsplus) (2.11.2)\n",
      "Requirement already satisfied: seaborn>=0.11.0 in c:\\users\\19521\\appdata\\local\\programs\\python\\python310\\lib\\site-packages (from ultralytics<8.0.44,>=8.0.43->ultralyticsplus) (0.12.2)\n",
      "Requirement already satisfied: psutil in c:\\users\\19521\\appdata\\roaming\\python\\python310\\site-packages (from ultralytics<8.0.44,>=8.0.43->ultralyticsplus) (5.9.4)\n",
      "Collecting thop>=0.1.1 (from ultralytics<8.0.44,>=8.0.43->ultralyticsplus)\n",
      "  Downloading thop-0.1.1.post2209072238-py3-none-any.whl (15 kB)\n",
      "Requirement already satisfied: wheel>=0.38.0 in c:\\users\\19521\\appdata\\local\\programs\\python\\python310\\lib\\site-packages (from ultralytics<8.0.44,>=8.0.43->ultralyticsplus) (0.40.0)\n",
      "Collecting sentry-sdk (from ultralytics<8.0.44,>=8.0.43->ultralyticsplus)\n",
      "  Obtaining dependency information for sentry-sdk from https://files.pythonhosted.org/packages/62/3a/765a7699a26884dcbf8b071dbe2a2486cc1cafcfb5f5d2e64ffe745dd0c6/sentry_sdk-1.31.0-py2.py3-none-any.whl.metadata\n",
      "  Downloading sentry_sdk-1.31.0-py2.py3-none-any.whl.metadata (9.8 kB)\n",
      "Requirement already satisfied: python-dateutil>=2.8.1 in c:\\users\\19521\\appdata\\local\\programs\\python\\python310\\lib\\site-packages (from pandas->ultralyticsplus) (2.8.2)\n",
      "Requirement already satisfied: pytz>=2020.1 in c:\\users\\19521\\appdata\\local\\programs\\python\\python310\\lib\\site-packages (from pandas->ultralyticsplus) (2023.3)\n",
      "Requirement already satisfied: six in c:\\users\\19521\\appdata\\local\\programs\\python\\python310\\lib\\site-packages (from fire->ultralyticsplus) (1.16.0)\n",
      "Requirement already satisfied: termcolor in c:\\users\\19521\\appdata\\local\\programs\\python\\python310\\lib\\site-packages (from fire->ultralyticsplus) (2.2.0)\n",
      "Requirement already satisfied: contourpy>=1.0.1 in c:\\users\\19521\\appdata\\local\\programs\\python\\python310\\lib\\site-packages (from matplotlib>=3.2.2->ultralytics<8.0.44,>=8.0.43->ultralyticsplus) (1.0.7)\n",
      "Requirement already satisfied: cycler>=0.10 in c:\\users\\19521\\appdata\\roaming\\python\\python310\\site-packages (from matplotlib>=3.2.2->ultralytics<8.0.44,>=8.0.43->ultralyticsplus) (0.10.0)\n",
      "Requirement already satisfied: fonttools>=4.22.0 in c:\\users\\19521\\appdata\\local\\programs\\python\\python310\\lib\\site-packages (from matplotlib>=3.2.2->ultralytics<8.0.44,>=8.0.43->ultralyticsplus) (4.39.3)\n",
      "Requirement already satisfied: kiwisolver>=1.0.1 in c:\\users\\19521\\appdata\\local\\programs\\python\\python310\\lib\\site-packages (from matplotlib>=3.2.2->ultralytics<8.0.44,>=8.0.43->ultralyticsplus) (1.4.4)\n",
      "Requirement already satisfied: pyparsing>=2.3.1 in c:\\users\\19521\\appdata\\local\\programs\\python\\python310\\lib\\site-packages (from matplotlib>=3.2.2->ultralytics<8.0.44,>=8.0.43->ultralyticsplus) (2.4.7)\n",
      "Requirement already satisfied: charset-normalizer<4,>=2 in c:\\users\\19521\\appdata\\local\\programs\\python\\python310\\lib\\site-packages (from requests->huggingface-hub>=0.12.0->ultralyticsplus) (3.1.0)\n",
      "Requirement already satisfied: idna<4,>=2.5 in c:\\users\\19521\\appdata\\roaming\\python\\python310\\site-packages (from requests->huggingface-hub>=0.12.0->ultralyticsplus) (2.10)\n",
      "Requirement already satisfied: urllib3<1.27,>=1.21.1 in c:\\users\\19521\\appdata\\local\\programs\\python\\python310\\lib\\site-packages (from requests->huggingface-hub>=0.12.0->ultralyticsplus) (1.26.15)\n",
      "Requirement already satisfied: certifi>=2017.4.17 in c:\\users\\19521\\appdata\\local\\programs\\python\\python310\\lib\\site-packages (from requests->huggingface-hub>=0.12.0->ultralyticsplus) (2022.12.7)\n",
      "Requirement already satisfied: absl-py>=0.4 in c:\\users\\19521\\appdata\\local\\programs\\python\\python310\\lib\\site-packages (from tensorboard>=2.4.1->ultralytics<8.0.44,>=8.0.43->ultralyticsplus) (1.4.0)\n",
      "Requirement already satisfied: grpcio>=1.24.3 in c:\\users\\19521\\appdata\\local\\programs\\python\\python310\\lib\\site-packages (from tensorboard>=2.4.1->ultralytics<8.0.44,>=8.0.43->ultralyticsplus) (1.53.0)\n",
      "Requirement already satisfied: google-auth<3,>=1.6.3 in c:\\users\\19521\\appdata\\local\\programs\\python\\python310\\lib\\site-packages (from tensorboard>=2.4.1->ultralytics<8.0.44,>=8.0.43->ultralyticsplus) (2.17.0)\n",
      "Requirement already satisfied: google-auth-oauthlib<0.5,>=0.4.1 in c:\\users\\19521\\appdata\\local\\programs\\python\\python310\\lib\\site-packages (from tensorboard>=2.4.1->ultralytics<8.0.44,>=8.0.43->ultralyticsplus) (0.4.6)\n",
      "Requirement already satisfied: markdown>=2.6.8 in c:\\users\\19521\\appdata\\local\\programs\\python\\python310\\lib\\site-packages (from tensorboard>=2.4.1->ultralytics<8.0.44,>=8.0.43->ultralyticsplus) (3.3.2)\n",
      "Requirement already satisfied: protobuf<4,>=3.9.2 in c:\\users\\19521\\appdata\\local\\programs\\python\\python310\\lib\\site-packages (from tensorboard>=2.4.1->ultralytics<8.0.44,>=8.0.43->ultralyticsplus) (3.19.6)\n",
      "Requirement already satisfied: setuptools>=41.0.0 in c:\\users\\19521\\appdata\\local\\programs\\python\\python310\\lib\\site-packages (from tensorboard>=2.4.1->ultralytics<8.0.44,>=8.0.43->ultralyticsplus) (65.5.0)\n",
      "Requirement already satisfied: tensorboard-data-server<0.7.0,>=0.6.0 in c:\\users\\19521\\appdata\\local\\programs\\python\\python310\\lib\\site-packages (from tensorboard>=2.4.1->ultralytics<8.0.44,>=8.0.43->ultralyticsplus) (0.6.1)\n",
      "Requirement already satisfied: tensorboard-plugin-wit>=1.6.0 in c:\\users\\19521\\appdata\\local\\programs\\python\\python310\\lib\\site-packages (from tensorboard>=2.4.1->ultralytics<8.0.44,>=8.0.43->ultralyticsplus) (1.8.1)\n",
      "Requirement already satisfied: werkzeug>=1.0.1 in c:\\users\\19521\\appdata\\local\\programs\\python\\python310\\lib\\site-packages (from tensorboard>=2.4.1->ultralytics<8.0.44,>=8.0.43->ultralyticsplus) (2.3.6)\n",
      "Requirement already satisfied: sympy in c:\\users\\19521\\appdata\\local\\programs\\python\\python310\\lib\\site-packages (from torch>=1.7.0->ultralytics<8.0.44,>=8.0.43->ultralyticsplus) (1.11.1)\n",
      "Requirement already satisfied: networkx in c:\\users\\19521\\appdata\\local\\programs\\python\\python310\\lib\\site-packages (from torch>=1.7.0->ultralytics<8.0.44,>=8.0.43->ultralyticsplus) (3.1)\n",
      "Requirement already satisfied: jinja2 in c:\\users\\19521\\appdata\\local\\programs\\python\\python310\\lib\\site-packages (from torch>=1.7.0->ultralytics<8.0.44,>=8.0.43->ultralyticsplus) (3.1.2)\n",
      "Requirement already satisfied: colorama in c:\\users\\19521\\appdata\\roaming\\python\\python310\\site-packages (from tqdm>=4.42.1->huggingface-hub>=0.12.0->ultralyticsplus) (0.4.6)\n",
      "Requirement already satisfied: cachetools<6.0,>=2.0.0 in c:\\users\\19521\\appdata\\local\\programs\\python\\python310\\lib\\site-packages (from google-auth<3,>=1.6.3->tensorboard>=2.4.1->ultralytics<8.0.44,>=8.0.43->ultralyticsplus) (5.3.0)\n",
      "Requirement already satisfied: pyasn1-modules>=0.2.1 in c:\\users\\19521\\appdata\\local\\programs\\python\\python310\\lib\\site-packages (from google-auth<3,>=1.6.3->tensorboard>=2.4.1->ultralytics<8.0.44,>=8.0.43->ultralyticsplus) (0.2.8)\n",
      "Requirement already satisfied: rsa<5,>=3.1.4 in c:\\users\\19521\\appdata\\local\\programs\\python\\python310\\lib\\site-packages (from google-auth<3,>=1.6.3->tensorboard>=2.4.1->ultralytics<8.0.44,>=8.0.43->ultralyticsplus) (4.9)\n",
      "Requirement already satisfied: requests-oauthlib>=0.7.0 in c:\\users\\19521\\appdata\\local\\programs\\python\\python310\\lib\\site-packages (from google-auth-oauthlib<0.5,>=0.4.1->tensorboard>=2.4.1->ultralytics<8.0.44,>=8.0.43->ultralyticsplus) (1.3.1)\n",
      "Requirement already satisfied: MarkupSafe>=2.1.1 in c:\\users\\19521\\appdata\\local\\programs\\python\\python310\\lib\\site-packages (from werkzeug>=1.0.1->tensorboard>=2.4.1->ultralytics<8.0.44,>=8.0.43->ultralyticsplus) (2.1.2)\n",
      "Requirement already satisfied: mpmath>=0.19 in c:\\users\\19521\\appdata\\local\\programs\\python\\python310\\lib\\site-packages (from sympy->torch>=1.7.0->ultralytics<8.0.44,>=8.0.43->ultralyticsplus) (1.3.0)\n",
      "Requirement already satisfied: pyasn1<0.5.0,>=0.4.6 in c:\\users\\19521\\appdata\\local\\programs\\python\\python310\\lib\\site-packages (from pyasn1-modules>=0.2.1->google-auth<3,>=1.6.3->tensorboard>=2.4.1->ultralytics<8.0.44,>=8.0.43->ultralyticsplus) (0.4.8)\n",
      "Requirement already satisfied: oauthlib>=3.0.0 in c:\\users\\19521\\appdata\\local\\programs\\python\\python310\\lib\\site-packages (from requests-oauthlib>=0.7.0->google-auth-oauthlib<0.5,>=0.4.1->tensorboard>=2.4.1->ultralytics<8.0.44,>=8.0.43->ultralyticsplus) (3.2.2)\n",
      "Downloading sahi-0.11.14-py3-none-any.whl (104 kB)\n",
      "   ---------------------------------------- 0.0/104.0 kB ? eta -:--:--\n",
      "   ---------------------------------------- 104.0/104.0 kB ? eta 0:00:00\n",
      "Downloading sentry_sdk-1.31.0-py2.py3-none-any.whl (224 kB)\n",
      "   ---------------------------------------- 0.0/224.8 kB ? eta -:--:--\n",
      "   --------------------------------------- 224.8/224.8 kB 13.4 MB/s eta 0:00:00\n",
      "Installing collected packages: terminaltables, shapely, sentry-sdk, pybboxes, sahi, thop, ultralytics, ultralyticsplus\n",
      "  Attempting uninstall: ultralytics\n",
      "    Found existing installation: ultralytics 8.0.149\n",
      "    Uninstalling ultralytics-8.0.149:\n",
      "      Successfully uninstalled ultralytics-8.0.149\n",
      "Successfully installed pybboxes-0.1.6 sahi-0.11.14 sentry-sdk-1.31.0 shapely-2.0.1 terminaltables-3.1.10 thop-0.1.1.post2209072238 ultralytics-8.0.43 ultralyticsplus-0.0.28\n"
     ]
    },
    {
     "name": "stderr",
     "output_type": "stream",
     "text": [
      "WARNING: Ignoring invalid distribution -illow (c:\\users\\19521\\appdata\\local\\programs\\python\\python310\\lib\\site-packages)\n",
      "WARNING: Ignoring invalid distribution -rotobuf (c:\\users\\19521\\appdata\\local\\programs\\python\\python310\\lib\\site-packages)\n",
      "WARNING: Ignoring invalid distribution -illow (c:\\users\\19521\\appdata\\local\\programs\\python\\python310\\lib\\site-packages)\n",
      "WARNING: Ignoring invalid distribution -rotobuf (c:\\users\\19521\\appdata\\local\\programs\\python\\python310\\lib\\site-packages)\n"
     ]
    }
   ],
   "source": [
    "!pip install ultralyticsplus"
   ]
  },
  {
   "cell_type": "code",
   "execution_count": 28,
   "metadata": {},
   "outputs": [],
   "source": [
    "from transformers import SegformerFeatureExtractor, SegformerForSemanticSegmentation\n",
    "from PIL import Image\n",
    "import requests\n",
    "\n",
    "feature_extractor = SegformerFeatureExtractor.from_pretrained(\"nvidia/segformer-b0-finetuned-cityscapes-640-1280\")\n",
    "model = SegformerForSemanticSegmentation.from_pretrained(\"nvidia/segformer-b0-finetuned-cityscapes-640-1280\")\n",
    "\n",
    "url = \"./DSC09638.jpg\"\n",
    "image = Image.open(url)\n",
    "\n",
    "inputs = feature_extractor(images=image, return_tensors=\"pt\")\n",
    "outputs = model(**inputs)\n",
    "logits = outputs.logits  # shape (batch_size, num_labels, height/4, width/4)\n"
   ]
  },
  {
   "cell_type": "code",
   "execution_count": 17,
   "metadata": {},
   "outputs": [
    {
     "name": "stdout",
     "output_type": "stream",
     "text": [
      "tensor([[0.0000, 0.0000, 0.0026,  ..., 0.0753, 0.0937, 0.0000]],\n",
      "       grad_fn=<ReshapeAliasBackward0>)\n"
     ]
    }
   ],
   "source": [
    "print()"
   ]
  }
 ],
 "metadata": {
  "kernelspec": {
   "display_name": "Python 3",
   "language": "python",
   "name": "python3"
  },
  "language_info": {
   "codemirror_mode": {
    "name": "ipython",
    "version": 3
   },
   "file_extension": ".py",
   "mimetype": "text/x-python",
   "name": "python",
   "nbconvert_exporter": "python",
   "pygments_lexer": "ipython3",
   "version": "3.10.10"
  },
  "orig_nbformat": 4
 },
 "nbformat": 4,
 "nbformat_minor": 2
}
