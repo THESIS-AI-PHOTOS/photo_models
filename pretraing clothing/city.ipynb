{
 "cells": [
  {
   "cell_type": "code",
   "execution_count": 86,
   "metadata": {},
   "outputs": [
    {
     "name": "stderr",
     "output_type": "stream",
     "text": [
      "c:\\Users\\19521\\AppData\\Local\\Programs\\Python\\Python310\\lib\\site-packages\\transformers\\models\\segformer\\image_processing_segformer.py:99: FutureWarning: The `reduce_labels` parameter is deprecated and will be removed in a future version. Please use `do_reduce_labels` instead.\n",
      "  warnings.warn(\n"
     ]
    }
   ],
   "source": [
    "from transformers import SegformerImageProcessor, AutoModelForSemanticSegmentation\n",
    "from PIL import Image\n",
    "import requests\n",
    "import matplotlib.pyplot as plt\n",
    "import torch.nn as nn\n",
    "\n",
    "processor = SegformerImageProcessor.from_pretrained(\"mattmdjaga/segformer_b2_clothes\")\n",
    "model = AutoModelForSemanticSegmentation.from_pretrained(\"mattmdjaga/segformer_b2_clothes\")\n",
    "\n",
    "url = \"./50c23ed8cfc61d9844d7.jpg\"\n",
    "\n",
    "image = Image.open(url)\n",
    "inputs = processor(images=image, return_tensors=\"pt\")\n",
    "\n",
    "outputs = model(**inputs)\n",
    "\n",
    "logits = outputs.logits.cpu()\n",
    "\n",
    "upsampled_logits = nn.functional.interpolate(\n",
    "    logits,\n",
    "    size=image.size[::-1],\n",
    "    mode=\"bilinear\",\n",
    "    align_corners=False,\n",
    "    \n",
    ")\n",
    "\n",
    "pred_seg = upsampled_logits.argmax(dim=1)[0]\n",
    "\n"
   ]
  },
  {
   "cell_type": "code",
   "execution_count": null,
   "metadata": {},
   "outputs": [],
   "source": []
  },
  {
   "cell_type": "code",
   "execution_count": 87,
   "metadata": {},
   "outputs": [
    {
     "name": "stdout",
     "output_type": "stream",
     "text": [
      "Background\n",
      "Hair\n",
      "Upper-clothes\n",
      "Skirt\n",
      "Pants\n",
      "Face\n",
      "Left-leg\n",
      "Right-leg\n",
      "Left-arm\n",
      "Right-arm\n",
      "Predicted labels have been saved to predicted_labels.txt\n"
     ]
    },
    {
     "data": {
      "text/plain": [
       "<matplotlib.image.AxesImage at 0x20c4c392b90>"
      ]
     },
     "execution_count": 87,
     "metadata": {},
     "output_type": "execute_result"
    },
    {
     "data": {
      "image/png": "[encoded data removed]",
      "text/plain": [
       "<Figure size 640x480 with 1 Axes>"
      ]
     },
     "metadata": {},
     "output_type": "display_data"
    }
   ],
   "source": [
    "from PIL import Image\n",
    "import requests\n",
    "import torch\n",
    "from transformers import AutoConfig\n",
    "\n",
    "# Load Mask2Former configuration from your custom file\n",
    "configuration = AutoConfig.from_pretrained('./config.json')\n",
    "\n",
    "# Extract the class label mapping from the configuration as a dictionary\n",
    "class_id_to_label = {\n",
    "    \"0\": \"Background\",\n",
    "    \"1\": \"Hat\",\n",
    "    \"2\": \"Hair\",\n",
    "    \"3\": \"Sunglasses\",\n",
    "    \"4\": \"Upper-clothes\",\n",
    "    \"5\": \"Skirt\",\n",
    "    \"6\": \"Pants\",\n",
    "    \"7\": \"Dress\",\n",
    "    \"8\": \"Belt\",\n",
    "    \"9\": \"Left-shoe\",\n",
    "    \"10\": \"Right-shoe\",\n",
    "    \"11\": \"Face\",\n",
    "    \"12\": \"Left-leg\",\n",
    "    \"13\": \"Right-leg\",\n",
    "    \"14\": \"Left-arm\",\n",
    "    \"15\": \"Right-arm\",\n",
    "    \"16\": \"Bag\",\n",
    "    \"17\": \"Scarf\"\n",
    "}\n",
    "\n",
    "# Extract segment IDs from the segmentation map (Replace 'pred_seg' with your actual segmentation map)\n",
    "segmentation_map = pred_seg\n",
    "segment_ids = torch.unique(segmentation_map)\n",
    "\n",
    "# Map segment IDs to class labels\n",
    "predicted_labels = [class_id_to_label.get(str(segment_id.item()), \"Unknown\") for segment_id in segment_ids]\n",
    "label_text = '\\n'.join(predicted_labels)\n",
    "print(label_text)\n",
    "\n",
    "# Save the label text to a file\n",
    "file_path = 'predicted_labels.txt'\n",
    "with open(file_path, 'w') as file:\n",
    "    file.write(label_text)\n",
    "\n",
    "# Print a message to confirm that the labels have been saved\n",
    "print(f'Predicted labels have been saved to {file_path}')\n",
    "plt.imshow(pred_seg)"
   ]
  }
 ],
 "metadata": {
  "kernelspec": {
   "display_name": "Python 3",
   "language": "python",
   "name": "python3"
  },
  "language_info": {
   "codemirror_mode": {
    "name": "ipython",
    "version": 3
   },
   "file_extension": ".py",
   "mimetype": "text/x-python",
   "name": "python",
   "nbconvert_exporter": "python",
   "pygments_lexer": "ipython3",
   "version": "3.10.10"
  },
  "orig_nbformat": 4
 },
 "nbformat": 4,
 "nbformat_minor": 2
}
